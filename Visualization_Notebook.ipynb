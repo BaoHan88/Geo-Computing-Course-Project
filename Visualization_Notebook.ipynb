{
 "cells": [
  {
   "cell_type": "code",
   "execution_count": 5,
   "metadata": {},
   "outputs": [],
   "source": [
    "import csv\n",
    "import json\n",
    "import fiona\n",
    "import folium\n",
    "import shapely\n",
    "from pprint import pprint\n",
    "from shapely.geometry import Point\n",
    "\n",
    "fh = fiona.open('/Users/yuchuanhuang/Git/Geog5541_Geocomputing_Project/Community Districts/geo_export_85f8aff7-dd6e-49d8-8e0f-cf2a339ecbb4.shp')\n",
    "\n",
    "districtlist = []\n",
    "for district in fh:\n",
    "    districtlist.append(district)\n",
    "\n",
    "fh.close()\n",
    "\n",
    "\n",
    "fh = open('/Users/yuchuanhuang/Desktop/CD_Count.csv', 'r')\n",
    "CD_Counts = csv.DictReader(fh)\n",
    "CD_Count_List = []\n",
    "\n",
    "for cd in CD_Counts:\n",
    "    CD_Count_List.append([float(cd['CD']), float(cd['Count'])])\n",
    "\n",
    "fh.close()\n",
    "\n",
    "# print(CD_Count_List)\n",
    "# pprint(districtlist[0])\n",
    "\n",
    "m = folium.Map(location = [40.78, -73.96], zoom_start=10) # Create a folium map\n",
    "                         \n",
    "# Map out the districts\n",
    "for d in districtlist:\n",
    "    temp_id = d['properties']['boro_cd']\n",
    "    for i in CD_Count_List:\n",
    "        if i[0] == temp_id and i[1] != 0:\n",
    "            j = json.dumps(d['geometry']) # Dump the GeoJSON string from the feature (look it up)\n",
    "            folium.features.GeoJson(j).add_to(m) # Add it to the map\n",
    "    "
   ]
  },
  {
   "cell_type": "code",
   "execution_count": 3,
   "metadata": {},
   "outputs": [],
   "source": [
    "fh = open('/Users/yuchuanhuang/Git/Geog5541_Geocomputing_Project/Sample.csv', 'r')\n",
    "\n",
    "startlist = []\n",
    "endlist = []\n",
    "\n",
    "trips = csv.DictReader(fh)\n",
    "\n",
    "for trip in trips:\n",
    "    startlist.append(Point(float(trip['start station longitude']), float(trip['start station latitude'])))\n",
    "    \n",
    "fh. close()\n",
    "\n",
    "for point in startlist:\n",
    "    j = json.dumps(shapely.geometry.mapping(point)) # Convert shapely point to geojson\n",
    "    folium.features.GeoJson(j).add_to(m) # Add it geojson point to the map"
   ]
  },
  {
   "cell_type": "code",
   "execution_count": 6,
   "metadata": {},
   "outputs": [],
   "source": [
    "m.save('/Users/yuchuanhuang/Git/Geog5541_Geocomputing_Project/visual.html')"
   ]
  },
  {
   "cell_type": "code",
   "execution_count": 6,
   "metadata": {},
   "outputs": [],
   "source": []
  }
 ],
 "metadata": {
  "kernelspec": {
   "display_name": "Python 3",
   "language": "python",
   "name": "python3"
  },
  "language_info": {
   "codemirror_mode": {
    "name": "ipython",
    "version": 3
   },
   "file_extension": ".py",
   "mimetype": "text/x-python",
   "name": "python",
   "nbconvert_exporter": "python",
   "pygments_lexer": "ipython3",
   "version": "3.6.4"
  }
 },
 "nbformat": 4,
 "nbformat_minor": 1
}
